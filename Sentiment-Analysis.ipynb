import pandas as pd
import numpy as np
import matplotlib.pyplot as plt
import seaborn as sns
import seaborn as seabornInstance
%matplotlib inline
from collections import Counter
from sklearn.model_selection import train_test_split
from sklearn.linear_model import LogisticRegression


rv = pd.read_csv('review.csv')

rv.head(5)

rv['word_count'] = rv['text'].apply(lambda x: Counter(x.lower().split()))

rv.head(5)
# print(rv.dtypes)

rv['name'].value_counts()[:20].plot(kind='barh')

# rv['name'].show()


bluetooth_speaker = rv[rv['name']== 'Amazon Tap - Alexa-Enabled Portable Bluetooth Speaker']

len(bluetooth_speaker)

bluetooth_speaker['rating'].value_counts().plot(kind='bar')


## Build sentiment Classifier

rv['rating'].value_counts().plot(kind='bar')

## Define positive and negative sentiments

# ignore all 3* reviews
products = rv[rv['rating'] != 3]

#positive sentomets = 4* or 5* reviews
products['sentiment'] = products['rating'] >=4

# products.shape()
products.head(5)

X = products[['name', 'rating', 'text','word_count']]
y = products['sentiment']
X_train,X_test,y_train,y_test = train_test_split(X,y,test_size=0.2,random_state=0)

# train=products.sample(frac=0.8,random_state=0) #random state is a seed value
# test=products.drop(train.index)

logistic_regression= LogisticRegression()
logistic_regression.fit(X_train, y_train)
