import numpy as np
import pandas as pd
import matplotlib.pyplot as plt
import seaborn as sns
%matplotlib inline
reviews = pd.read_csv("ign.csv")

reviews.head()

reviews.shape

reviews.iloc[:, 5:]

reviews.index

some_reviews = reviews.iloc[10:20,]
some_reviews.head()

some_reviews.loc[9:21, :]

3 retreive by label
reviews.loc[:5, "score"]

reviews.loc[:5, ["score", "release_year"]]

# retreive column with just name 
reviews["score"]

reviews[["score", "release_year"]]

type(reviews["score"])

# combination of type of data
s1 = pd.Series([1,2])
s2 = pd.Series([2,3,"rekha"])
s1, s2

pd.DataFrame([s1, s2])

pd.DataFrame([[1,2], [2, 3, "rekha"]])

#specifying column name 
pd.DataFrame([[1,2], [2, 3, "rekha"]], columns=["column1", "column2", "column3"])

# with row labels
pd.DataFrame([[1,2], [2, 3, "rekha"]], columns=["column1", "column2", "column3"], index=["row1","row2"])

frame = pd.DataFrame([[1,2], [2, 3, "rekha"]], columns=["column1", "column2", "column3"], index=["row1","row2"])
frame

# now index dataframe with label
frame.loc["row1":"row2","column1"]

type(reviews["title"])

reviews["title"].head()

# Panda series and dataframe has more moethods with makes calulation easy
reviews["score"].mean()

reviews.mean()

#compute the mean of each row
reviews.mean(axis=1)

# find the correlation between columns in dataframe
reviews.corr()

# performing math on dataframe objects or Series like divide each value in score column with 2
reviews["score"] / 2

score_filter = reviews["score"] > 7
score_filter

filtered_reviews = reviews[score_filter]
filtered_reviews.head()

# adding more condition to filter
xbox_one_filter = (reviews["score"] > 7) & (reviews["platform"]== "Xbox One")
filtered_reviews = reviews[xbox_one_filter]
filtered_reviews.head()

reviews[reviews["platform"]== "Xbox One"]["score"].plot(kind="hist")

reviews[reviews["platform"]== "PlayStation 4"]["score"].plot(kind="hist")

url = "https://community.watsonanalytics.com/wp-content/uploads/2015/04/WA_Fn-UseC_-Sales-Win-Loss.csv"


sales_data = pd.read_csv(url)

